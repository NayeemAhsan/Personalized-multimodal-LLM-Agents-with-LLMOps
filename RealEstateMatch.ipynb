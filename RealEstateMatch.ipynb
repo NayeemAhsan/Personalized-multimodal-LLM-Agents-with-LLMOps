{
 "cells": [
  {
   "cell_type": "code",
   "execution_count": 24,
   "id": "eaa12550",
   "metadata": {},
   "outputs": [],
   "source": [
    "import os\n",
    "import json\n",
    "import yaml\n",
    "import openai\n",
    "import src.generate_listings as generate_listings\n",
    "import src.vector_db as vector_db\n",
    "import src.personalized_response as personalized_response\n",
    "import src.app as app"
   ]
  },
  {
   "cell_type": "code",
   "execution_count": 25,
   "id": "53ba3984",
   "metadata": {},
   "outputs": [],
   "source": [
    "# Load configuration\n",
    "with open('config.yaml', 'r') as file:\n",
    "    config = yaml.safe_load(file)"
   ]
  },
  {
   "cell_type": "code",
   "execution_count": 26,
   "id": "70dd0599",
   "metadata": {},
   "outputs": [],
   "source": [
    "# Extract relevant settings from the config file\n",
    "api_base = config[\"env_config\"][\"api_base\"][\"base1\"]\n",
    "embedding_model = config[\"env_config\"][\"model_name\"][\"text2\"]\n",
    "file_path = config[\"data\"][\"listing_file_path\"]\n",
    "results_file_path = config[\"data\"][\"results_file_path\"]"
   ]
  },
  {
   "cell_type": "code",
   "execution_count": 27,
   "id": "6f75a982",
   "metadata": {},
   "outputs": [],
   "source": [
    "# api_key for openai\n",
    "api_key = os.environ[\"OPENAI_API_KEY\"]\n",
    "openai.api_base = api_base\n",
    "openai.api_key = api_key"
   ]
  },
  {
   "cell_type": "code",
   "execution_count": 28,
   "id": "4df2f5aa",
   "metadata": {},
   "outputs": [
    {
     "name": "stdout",
     "output_type": "stream",
     "text": [
      "Generated 20 listings and saved to data/real_estate_listings.json\n",
      "First two listings:\n",
      "[\n",
      "    {\n",
      "        \"neighborhood\": \"Sunset Hills\",\n",
      "        \"price\": 950000,\n",
      "        \"bedrooms\": 4,\n",
      "        \"bathrooms\": 3,\n",
      "        \"square_footage\": \"3,500 sqft\",\n",
      "        \"description\": \"Welcome to this stunning 4-bedroom, 3-bathroom home located in the prestigious Sunset Hills neighborhood. This elegant estate features a grand entrance foyer, spacious living room with a fireplace, formal dining room, and a gourmet kitchen with top-of-the-line appliances. The luxurious master suite boasts a spa-like bathroom and a walk-in closet. The expansive backyard offers a sparkling pool, outdoor kitchen, and lush landscaping, perfect for entertaining guests. Enjoy luxury living at its finest in this Sunset Hills masterpiece.\",\n",
      "        \"neighborhood_description\": \"Sunset Hills is known for its upscale vibe and picturesque views of the sunset over the rolling hills. This exclusive neighborhood is home to top-rated schools, fine dining restaurants, and boutique shops. Residents can enjoy outdoor activities at the nearby Sunset Hills Park or tee off at the Sunset Hills Country Club. With easy access to freeways and downtown amenities, Sunset Hills offers a perfect balance of tranquility and convenience.\",\n",
      "        \"image_path\": null\n",
      "    },\n",
      "    {\n",
      "        \"neighborhood\": \"Willow Creek\",\n",
      "        \"price\": 950000,\n",
      "        \"bedrooms\": 4,\n",
      "        \"bathrooms\": 3,\n",
      "        \"square_footage\": \"2,500 sqft\",\n",
      "        \"description\": \"Welcome to this stunning modern home located in the desirable neighborhood of Willow Creek. This spacious 4-bedroom, 3-bathroom house features sleek design elements, high-end finishes, and an abundance of natural light throughout. The gourmet kitchen is equipped with top-of-the-line appliances and a large island, perfect for entertaining. The luxurious master suite includes a spa-like bathroom and a walk-in closet. With an expansive backyard and a spacious deck, this home is ideal for outdoor gatherings and relaxation. Experience modern luxury living at its finest in this Willow Creek masterpiece.\",\n",
      "        \"neighborhood_description\": \"Willow Creek is known for its upscale and family-friendly atmosphere, offering a perfect blend of suburban tranquility and urban convenience. Residents enjoy access to top-rated schools, upscale shopping centers, and fine dining options. The neighborhood is surrounded by picturesque parks and greenbelts, providing plenty of opportunities for outdoor recreation. With easy access to major highways and public transportation, commuting to downtown is quick and convenient.\",\n",
      "        \"image_path\": null\n",
      "    }\n",
      "]\n"
     ]
    }
   ],
   "source": [
    "# genelrate listing\n",
    "# due to the lack of gpu resources and time, images were not generetaed but the code should be able to handle any image generation. \n",
    "# feel free to uncomment generate_image function inside the generate_listings module to generate images. \n",
    "\n",
    "generate_listings.main()"
   ]
  },
  {
   "cell_type": "code",
   "execution_count": 29,
   "id": "d4dc75a9",
   "metadata": {},
   "outputs": [],
   "source": [
    "# Load the listings from the JSON file\n",
    "listing_collection = vector_db.load_listings()"
   ]
  },
  {
   "cell_type": "code",
   "execution_count": 30,
   "id": "c129d7c7",
   "metadata": {},
   "outputs": [
    {
     "name": "stdout",
     "output_type": "stream",
     "text": [
      "[\n",
      "    {\n",
      "        \"neighborhood\": \"Sunset Hills\",\n",
      "        \"price\": 950000,\n",
      "        \"bedrooms\": 4,\n",
      "        \"bathrooms\": 3,\n",
      "        \"square_footage\": \"3,500 sqft\",\n",
      "        \"description\": \"Welcome to this stunning 4-bedroom, 3-bathroom home located in the prestigious Sunset Hills neighborhood. This elegant estate features a grand entrance foyer, spacious living room with a fireplace, formal dining room, and a gourmet kitchen with top-of-the-line appliances. The luxurious master suite boasts a spa-like bathroom and a walk-in closet. The expansive backyard offers a sparkling pool, outdoor kitchen, and lush landscaping, perfect for entertaining guests. Enjoy luxury living at its finest in this Sunset Hills masterpiece.\",\n",
      "        \"neighborhood_description\": \"Sunset Hills is known for its upscale vibe and picturesque views of the sunset over the rolling hills. This exclusive neighborhood is home to top-rated schools, fine dining restaurants, and boutique shops. Residents can enjoy outdoor activities at the nearby Sunset Hills Park or tee off at the Sunset Hills Country Club. With easy access to freeways and downtown amenities, Sunset Hills offers a perfect balance of tranquility and convenience.\",\n",
      "        \"image_path\": null\n",
      "    },\n",
      "    {\n",
      "        \"neighborhood\": \"Willow Creek\",\n",
      "        \"price\": 950000,\n",
      "        \"bedrooms\": 4,\n",
      "        \"bathrooms\": 3,\n",
      "        \"square_footage\": \"2,500 sqft\",\n",
      "        \"description\": \"Welcome to this stunning modern home located in the desirable neighborhood of Willow Creek. This spacious 4-bedroom, 3-bathroom house features sleek design elements, high-end finishes, and an abundance of natural light throughout. The gourmet kitchen is equipped with top-of-the-line appliances and a large island, perfect for entertaining. The luxurious master suite includes a spa-like bathroom and a walk-in closet. With an expansive backyard and a spacious deck, this home is ideal for outdoor gatherings and relaxation. Experience modern luxury living at its finest in this Willow Creek masterpiece.\",\n",
      "        \"neighborhood_description\": \"Willow Creek is known for its upscale and family-friendly atmosphere, offering a perfect blend of suburban tranquility and urban convenience. Residents enjoy access to top-rated schools, upscale shopping centers, and fine dining options. The neighborhood is surrounded by picturesque parks and greenbelts, providing plenty of opportunities for outdoor recreation. With easy access to major highways and public transportation, commuting to downtown is quick and convenient.\",\n",
      "        \"image_path\": null\n",
      "    }\n",
      "]\n"
     ]
    }
   ],
   "source": [
    "# print first 2 listings\n",
    "print(json.dumps(listing_collection[:2], indent=4))"
   ]
  },
  {
   "cell_type": "code",
   "execution_count": null,
   "id": "a5bdd6cb",
   "metadata": {},
   "outputs": [],
   "source": [
    "# store listings in vector db\n",
    "vector_db.main()"
   ]
  },
  {
   "cell_type": "code",
   "execution_count": 32,
   "id": "c4c3fed9",
   "metadata": {},
   "outputs": [
    {
     "name": "stdout",
     "output_type": "stream",
     "text": [
      "- I am interested in a quiet neighborhood with a strong sense of community.\n",
      "- My budget is $600,000.\n",
      "- I need a minimum of 4 bedrooms.\n",
      "- I need a minimum of 3 bathrooms.\n",
      "- I require a minimum of 2,000 square feet.\n",
      "- I prefer a Tudor style home with unique architectural features.\n",
      "- I need a large kitchen with updated appliances and a spacious backyard.\n",
      "- Amenities that are important to me include a home theater and a designated home gym.\n"
     ]
    }
   ],
   "source": [
    "# get user response\n",
    "response = personalized_response.get_user_responses()\n",
    "print(response)"
   ]
  },
  {
   "cell_type": "code",
   "execution_count": 33,
   "id": "8b200d04",
   "metadata": {},
   "outputs": [
    {
     "name": "stdout",
     "output_type": "stream",
     "text": [
      "[Document(page_content='Green Oaks | 800000 | 3 bedrooms | 2 bathrooms | 2,000 sqft sqft | Description: Welcome to this eco-friendly oasis nestled in the heart of Green Oaks. This charming 3-bedroom, 2-bathroom home boasts energy-efficient features such as solar panels and a well-insulated structure. Natural light floods the living spaces, highlighting the beautiful hardwood floors and eco-conscious finishes. The open-concept kitchen and dining area lead to a spacious backyard with a vegetable garden, perfect for the eco-conscious family. Embrace sustainable living without compromising on style in this Green Oaks gem. | Neighborhood Description: Green Oaks is a close-knit, environmentally-conscious community with access to organic grocery stores, community gardens, and bike paths. Take a stroll through the nearby Green Oaks Park or grab a cup of coffee at the cozy Green Bean Cafe. With easy access to public transportation and bike lanes, commuting is a breeze.'), Document(page_content='Green Oaks | 800000 | 3 bedrooms | 2 bathrooms | 2,000 sqft sqft | Description: Welcome to this eco-friendly oasis nestled in the heart of Green Oaks. This charming 3-bedroom, 2-bathroom home boasts energy-efficient features such as solar panels and a well-insulated structure. Natural light floods the living spaces, highlighting the beautiful hardwood floors and eco-conscious finishes. The open-concept kitchen and dining area lead to a spacious backyard with a vegetable garden, perfect for the eco-conscious family. Embrace sustainable living without compromising on style in this Green Oaks gem. | Neighborhood Description: Green Oaks is a close-knit, environmentally-conscious community with access to organic grocery stores, community gardens, and bike paths. Take a stroll through the nearby Green Oaks Park or grab a cup of coffee at the cozy Green Bean Cafe. With easy access to public transportation and bike lanes, commuting is a breeze.'), Document(page_content='Green Oaks | 800000 | 3 bedrooms | 2 bathrooms | 2,000 sqft sqft | Description: Welcome to this eco-friendly oasis nestled in the heart of Green Oaks. This charming 3-bedroom, 2-bathroom home boasts energy-efficient features such as solar panels and a well-insulated structure. Natural light floods the living spaces, highlighting the beautiful hardwood floors and eco-conscious finishes. The open-concept kitchen and dining area lead to a spacious backyard with a vegetable garden, perfect for the eco-conscious family. Embrace sustainable living without compromising on style in this Green Oaks gem. | Neighborhood Description: Green Oaks is a close-knit, environmentally-conscious community with access to organic grocery stores, community gardens, and bike paths. Take a stroll through the nearby Green Oaks Park or grab a cup of coffee at the cozy Green Bean Cafe. With easy access to public transportation and bike lanes, commuting is a breeze.'), Document(page_content='Sunset Heights | 950000 | 4 bedrooms | 3 bathrooms | 3,500 sqft sqft | Description: Welcome to this luxurious 4-bedroom, 3-bathroom home located in the highly sought-after neighborhood of Sunset Heights. This elegant residence features high-end finishes, including a gourmet kitchen with granite countertops and stainless steel appliances. The spacious master suite offers a peaceful retreat with a spa-like bathroom and a walk-in closet. Entertain guests in the expansive living room with soaring ceilings, or enjoy outdoor living in the beautifully landscaped backyard with a sparkling pool and spa. Live in style and sophistication in this stunning Sunset Heights residence. | Neighborhood Description: Sunset Heights is known for its upscale vibe and convenient location near top-rated schools, trendy restaurants, and upscale shopping centers. Residents can enjoy leisurely walks in the nearby Sunset Heights Park or explore the local art galleries and boutiques. With easy access to major highways and public transportation, commuting to downtown is a breeze for residents of Sunset Heights.'), Document(page_content='Sunset Heights | 950000 | 4 bedrooms | 3 bathrooms | 3,500 sqft sqft | Description: Welcome to this luxurious 4-bedroom, 3-bathroom home located in the highly sought-after neighborhood of Sunset Heights. This elegant residence features high-end finishes, including a gourmet kitchen with granite countertops and stainless steel appliances. The spacious master suite offers a peaceful retreat with a spa-like bathroom and a walk-in closet. Entertain guests in the expansive living room with soaring ceilings, or enjoy outdoor living in the beautifully landscaped backyard with a sparkling pool and spa. Live in style and sophistication in this stunning Sunset Heights residence. | Neighborhood Description: Sunset Heights is known for its upscale vibe and convenient location near top-rated schools, trendy restaurants, and upscale shopping centers. Residents can enjoy leisurely walks in the nearby Sunset Heights Park or explore the local art galleries and boutiques. With easy access to major highways and public transportation, commuting to downtown is a breeze for residents of Sunset Heights.')]\n"
     ]
    }
   ],
   "source": [
    "# get perosnalized search listing\n",
    "search_listings = personalized_response.search_and_retrieve(response)\n",
    "print(search_listings)"
   ]
  },
  {
   "cell_type": "code",
   "execution_count": 34,
   "id": "7d8c6783",
   "metadata": {},
   "outputs": [
    {
     "name": "stdout",
     "output_type": "stream",
     "text": [
      "Personalized results saved to ./data/personalized_results.json\n",
      "None\n"
     ]
    }
   ],
   "source": [
    "# get perosnalized description for 1 listing\n",
    "personalized_description = personalized_response.main(response)\n",
    "print(personalized_description)"
   ]
  },
  {
   "cell_type": "code",
   "execution_count": 35,
   "id": "c0c62106",
   "metadata": {},
   "outputs": [
    {
     "name": "stdout",
     "output_type": "stream",
     "text": [
      "Personalized results saved to ./data/personalized_results.json\n"
     ]
    }
   ],
   "source": [
    "# get perosnalized description for multiple listings\n",
    "personalized_response.main(response, num_results = 3)"
   ]
  },
  {
   "cell_type": "code",
   "execution_count": 36,
   "id": "4794d252",
   "metadata": {},
   "outputs": [],
   "source": [
    "# Load the JSON file and extract 'personalized_description'\n",
    "with open(results_file_path, 'r') as f:\n",
    "        personalized_results = json.load(f)"
   ]
  },
  {
   "cell_type": "code",
   "execution_count": 38,
   "id": "718e9adc",
   "metadata": {},
   "outputs": [
    {
     "name": "stdout",
     "output_type": "stream",
     "text": [
      "1. Personalized Listing:\n",
      "\n",
      "Property Description: Welcome to your new 4-bedroom, 3-bathroom craftsman-style home in the Sunny Brooke neighborhood. This spacious home features a cozy fireplace, a large kitchen with granite countertops, a two-car garage, and a backyard deck for outdoor relaxation.\n",
      "\n",
      "Neighborhood Description: Sunny Brooke is a close-knit community with scenic parks, hiking trails, and top-rated schools. Enjoy the tranquility of tree-lined streets with easy access to shopping and dining options. Located near major highways for a convenient commute.\n",
      "\n",
      "Listing Price: $580,000\n",
      "\n",
      "2. Personalized Listing:\n",
      "\n",
      "Property Description: Welcome to this charming 3-bedroom, 2-bathroom cottage-style home in the family-friendly Orchard Grove neighborhood. This home features a spacious backyard, perfect for gardening or enjoying outdoor activities. The cozy fireplace, updated kitchen, and hardwood floors add to the home's character and charm.\n",
      "\n",
      "Neighborhood Description: Orchard Grove is known for its tight-knit community feel, with friendly neighbors and local events throughout the year. You'll love being within walking distance to parks, schools, and local shops. Plus, easy access to the highway makes commuting a breeze.\n",
      "\n",
      "Listing Price: $450,000\n",
      "\n"
     ]
    }
   ],
   "source": [
    "for result in personalized_results:\n",
    "    for idx, listing in enumerate(result['personalized_listings'], start=1):\n",
    "        print(f\"{idx}. {listing['personalized_description']}\\n\")"
   ]
  },
  {
   "cell_type": "code",
   "execution_count": null,
   "id": "a05d0ab1",
   "metadata": {},
   "outputs": [],
   "source": [
    "# run the whole code from the main file including the app built using gradio\n",
    "app.main()"
   ]
  }
 ],
 "metadata": {
  "kernelspec": {
   "display_name": "Python 3 (ipykernel)",
   "language": "python",
   "name": "python3"
  },
  "language_info": {
   "codemirror_mode": {
    "name": "ipython",
    "version": 3
   },
   "file_extension": ".py",
   "mimetype": "text/x-python",
   "name": "python",
   "nbconvert_exporter": "python",
   "pygments_lexer": "ipython3",
   "version": "3.11.9"
  }
 },
 "nbformat": 4,
 "nbformat_minor": 5
}
